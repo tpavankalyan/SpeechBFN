{
 "cells": [
  {
   "cell_type": "code",
   "execution_count": 2,
   "id": "79b92c4a",
   "metadata": {},
   "outputs": [
    {
     "name": "stdout",
     "output_type": "stream",
     "text": [
      "Looking in indexes: https://pypi.org/simple, https://pypi.ngc.nvidia.com\n",
      "Collecting torchsummary\n",
      "  Downloading torchsummary-1.5.1-py3-none-any.whl (2.8 kB)\n",
      "Installing collected packages: torchsummary\n",
      "Successfully installed torchsummary-1.5.1\n",
      "\u001b[33mWARNING: Running pip as the 'root' user can result in broken permissions and conflicting behaviour with the system package manager. It is recommended to use a virtual environment instead: https://pip.pypa.io/warnings/venv\u001b[0m\n"
     ]
    }
   ],
   "source": [
    "!pip install torchsummary"
   ]
  },
  {
   "cell_type": "code",
   "execution_count": 6,
   "id": "0fdfed37",
   "metadata": {
    "scrolled": true
   },
   "outputs": [
    {
     "name": "stdout",
     "output_type": "stream",
     "text": [
      "Looking in indexes: https://pypi.org/simple, https://pypi.ngc.nvidia.com\n",
      "Collecting diffusers[training]==0.2.3\n",
      "  Downloading diffusers-0.2.3-py3-none-any.whl (112 kB)\n",
      "\u001b[K     |████████████████████████████████| 112 kB 3.0 MB/s eta 0:00:01\n",
      "\u001b[?25hRequirement already satisfied: filelock in /opt/conda/lib/python3.8/site-packages (from diffusers[training]==0.2.3) (3.7.1)\n",
      "Requirement already satisfied: torch>=1.4 in /opt/conda/lib/python3.8/site-packages (from diffusers[training]==0.2.3) (1.13.0a0+08820cb)\n",
      "Requirement already satisfied: importlib-metadata in /opt/conda/lib/python3.8/site-packages (from diffusers[training]==0.2.3) (4.12.0)\n",
      "Requirement already satisfied: requests in /opt/conda/lib/python3.8/site-packages (from diffusers[training]==0.2.3) (2.27.1)\n",
      "Requirement already satisfied: regex!=2019.12.17 in /opt/conda/lib/python3.8/site-packages (from diffusers[training]==0.2.3) (2022.6.2)\n",
      "Requirement already satisfied: huggingface-hub<1.0,>=0.8.1 in /opt/conda/lib/python3.8/site-packages (from diffusers[training]==0.2.3) (0.16.4)\n",
      "Requirement already satisfied: numpy in /opt/conda/lib/python3.8/site-packages (from diffusers[training]==0.2.3) (1.22.4)\n",
      "Requirement already satisfied: Pillow in /opt/conda/lib/python3.8/site-packages (from diffusers[training]==0.2.3) (9.0.1)\n",
      "Collecting modelcards\n",
      "  Downloading modelcards-0.1.6-py3-none-any.whl (12 kB)\n",
      "Requirement already satisfied: tensorboard in /opt/conda/lib/python3.8/site-packages (from diffusers[training]==0.2.3) (2.9.1)\n",
      "Collecting datasets\n",
      "  Downloading datasets-2.14.5-py3-none-any.whl (519 kB)\n",
      "\u001b[K     |████████████████████████████████| 519 kB 4.0 MB/s eta 0:00:01\n",
      "\u001b[?25hCollecting accelerate\n",
      "  Downloading accelerate-0.23.0-py3-none-any.whl (258 kB)\n",
      "\u001b[K     |████████████████████████████████| 258 kB 5.8 MB/s eta 0:00:01\n",
      "\u001b[?25hRequirement already satisfied: tqdm>=4.42.1 in /opt/conda/lib/python3.8/site-packages (from huggingface-hub<1.0,>=0.8.1->diffusers[training]==0.2.3) (4.64.0)\n",
      "Requirement already satisfied: fsspec in /opt/conda/lib/python3.8/site-packages (from huggingface-hub<1.0,>=0.8.1->diffusers[training]==0.2.3) (2022.5.0)\n",
      "Requirement already satisfied: packaging>=20.9 in /opt/conda/lib/python3.8/site-packages (from huggingface-hub<1.0,>=0.8.1->diffusers[training]==0.2.3) (21.3)\n",
      "Requirement already satisfied: typing-extensions>=3.7.4.3 in /opt/conda/lib/python3.8/site-packages (from huggingface-hub<1.0,>=0.8.1->diffusers[training]==0.2.3) (4.3.0)\n",
      "Requirement already satisfied: pyyaml>=5.1 in /opt/conda/lib/python3.8/site-packages (from huggingface-hub<1.0,>=0.8.1->diffusers[training]==0.2.3) (6.0)\n",
      "Requirement already satisfied: pyparsing!=3.0.5,>=2.0.2 in /opt/conda/lib/python3.8/site-packages (from packaging>=20.9->huggingface-hub<1.0,>=0.8.1->diffusers[training]==0.2.3) (3.0.9)\n",
      "Requirement already satisfied: psutil in /opt/conda/lib/python3.8/site-packages (from accelerate->diffusers[training]==0.2.3) (5.9.1)\n",
      "Collecting pyarrow>=8.0.0\n",
      "  Downloading pyarrow-13.0.0-cp38-cp38-manylinux_2_28_x86_64.whl (40.1 MB)\n",
      "\u001b[K     |████████████████████████████████| 40.1 MB 10.5 MB/s eta 0:00:01\n",
      "\u001b[?25hCollecting multiprocess\n",
      "  Downloading multiprocess-0.70.15-py38-none-any.whl (132 kB)\n",
      "\u001b[K     |████████████████████████████████| 132 kB 11.5 MB/s eta 0:00:01\n",
      "\u001b[?25hCollecting fsspec[http]<2023.9.0,>=2023.1.0\n",
      "  Downloading fsspec-2023.6.0-py3-none-any.whl (163 kB)\n",
      "\u001b[K     |████████████████████████████████| 163 kB 11.5 MB/s eta 0:00:01\n",
      "\u001b[?25hCollecting aiohttp\n",
      "  Downloading aiohttp-3.8.5-cp38-cp38-manylinux_2_17_x86_64.manylinux2014_x86_64.whl (1.1 MB)\n",
      "\u001b[K     |████████████████████████████████| 1.1 MB 11.5 MB/s eta 0:00:01\n",
      "\u001b[?25hCollecting dill<0.3.8,>=0.3.0\n",
      "  Downloading dill-0.3.7-py3-none-any.whl (115 kB)\n",
      "\u001b[K     |████████████████████████████████| 115 kB 11.7 MB/s eta 0:00:01\n",
      "\u001b[?25hRequirement already satisfied: pandas in /opt/conda/lib/python3.8/site-packages (from datasets->diffusers[training]==0.2.3) (1.4.3)\n",
      "Collecting xxhash\n",
      "  Downloading xxhash-3.3.0-cp38-cp38-manylinux_2_17_x86_64.manylinux2014_x86_64.whl (194 kB)\n",
      "\u001b[K     |████████████████████████████████| 194 kB 12.7 MB/s eta 0:00:01\n",
      "\u001b[?25hRequirement already satisfied: charset-normalizer<4.0,>=2.0 in /opt/conda/lib/python3.8/site-packages (from aiohttp->datasets->diffusers[training]==0.2.3) (2.0.12)\n",
      "Requirement already satisfied: attrs>=17.3.0 in /opt/conda/lib/python3.8/site-packages (from aiohttp->datasets->diffusers[training]==0.2.3) (21.4.0)\n",
      "Collecting aiosignal>=1.1.2\n",
      "  Downloading aiosignal-1.3.1-py3-none-any.whl (7.6 kB)\n",
      "Collecting frozenlist>=1.1.1\n",
      "  Downloading frozenlist-1.4.0-cp38-cp38-manylinux_2_5_x86_64.manylinux1_x86_64.manylinux_2_17_x86_64.manylinux2014_x86_64.whl (220 kB)\n",
      "\u001b[K     |████████████████████████████████| 220 kB 11.6 MB/s eta 0:00:01\n",
      "\u001b[?25hCollecting async-timeout<5.0,>=4.0.0a3\n",
      "  Downloading async_timeout-4.0.3-py3-none-any.whl (5.7 kB)\n",
      "Collecting yarl<2.0,>=1.0\n",
      "  Downloading yarl-1.9.2-cp38-cp38-manylinux_2_17_x86_64.manylinux2014_x86_64.whl (266 kB)\n",
      "\u001b[K     |████████████████████████████████| 266 kB 11.7 MB/s eta 0:00:01\n",
      "\u001b[?25hCollecting multidict<7.0,>=4.5\n",
      "  Downloading multidict-6.0.4-cp38-cp38-manylinux_2_17_x86_64.manylinux2014_x86_64.whl (121 kB)\n",
      "\u001b[K     |████████████████████████████████| 121 kB 11.4 MB/s eta 0:00:01\n",
      "\u001b[?25hRequirement already satisfied: urllib3<1.27,>=1.21.1 in /opt/conda/lib/python3.8/site-packages (from requests->diffusers[training]==0.2.3) (1.26.9)\n",
      "Requirement already satisfied: certifi>=2017.4.17 in /opt/conda/lib/python3.8/site-packages (from requests->diffusers[training]==0.2.3) (2022.6.15)\n",
      "Requirement already satisfied: idna<4,>=2.5 in /opt/conda/lib/python3.8/site-packages (from requests->diffusers[training]==0.2.3) (3.3)\n",
      "Requirement already satisfied: zipp>=0.5 in /opt/conda/lib/python3.8/site-packages (from importlib-metadata->diffusers[training]==0.2.3) (3.8.0)\n",
      "Requirement already satisfied: Jinja2 in /opt/conda/lib/python3.8/site-packages (from modelcards->diffusers[training]==0.2.3) (3.1.2)\n",
      "Requirement already satisfied: MarkupSafe>=2.0 in /opt/conda/lib/python3.8/site-packages (from Jinja2->modelcards->diffusers[training]==0.2.3) (2.1.1)\n",
      "Requirement already satisfied: python-dateutil>=2.8.1 in /opt/conda/lib/python3.8/site-packages (from pandas->datasets->diffusers[training]==0.2.3) (2.8.2)\n",
      "Requirement already satisfied: pytz>=2020.1 in /opt/conda/lib/python3.8/site-packages (from pandas->datasets->diffusers[training]==0.2.3) (2022.1)\n",
      "Requirement already satisfied: six>=1.5 in /opt/conda/lib/python3.8/site-packages (from python-dateutil>=2.8.1->pandas->datasets->diffusers[training]==0.2.3) (1.16.0)\n",
      "Requirement already satisfied: werkzeug>=1.0.1 in /opt/conda/lib/python3.8/site-packages (from tensorboard->diffusers[training]==0.2.3) (2.1.2)\n",
      "Requirement already satisfied: markdown>=2.6.8 in /opt/conda/lib/python3.8/site-packages (from tensorboard->diffusers[training]==0.2.3) (3.3.7)\n",
      "Requirement already satisfied: grpcio>=1.24.3 in /opt/conda/lib/python3.8/site-packages (from tensorboard->diffusers[training]==0.2.3) (1.47.0)\n",
      "Requirement already satisfied: absl-py>=0.4 in /opt/conda/lib/python3.8/site-packages (from tensorboard->diffusers[training]==0.2.3) (1.1.0)\n",
      "Requirement already satisfied: wheel>=0.26 in /opt/conda/lib/python3.8/site-packages (from tensorboard->diffusers[training]==0.2.3) (0.37.1)\n",
      "Requirement already satisfied: tensorboard-data-server<0.7.0,>=0.6.0 in /opt/conda/lib/python3.8/site-packages (from tensorboard->diffusers[training]==0.2.3) (0.6.1)\n",
      "Requirement already satisfied: setuptools>=41.0.0 in /opt/conda/lib/python3.8/site-packages (from tensorboard->diffusers[training]==0.2.3) (59.5.0)\n",
      "Requirement already satisfied: google-auth-oauthlib<0.5,>=0.4.1 in /opt/conda/lib/python3.8/site-packages (from tensorboard->diffusers[training]==0.2.3) (0.4.6)\n",
      "Collecting protobuf<3.20,>=3.9.2\n",
      "  Downloading protobuf-3.19.6-cp38-cp38-manylinux_2_17_x86_64.manylinux2014_x86_64.whl (1.1 MB)\n",
      "\u001b[K     |████████████████████████████████| 1.1 MB 11.7 MB/s eta 0:00:01\n",
      "\u001b[?25hRequirement already satisfied: tensorboard-plugin-wit>=1.6.0 in /opt/conda/lib/python3.8/site-packages (from tensorboard->diffusers[training]==0.2.3) (1.8.1)\n",
      "Requirement already satisfied: google-auth<3,>=1.6.3 in /opt/conda/lib/python3.8/site-packages (from tensorboard->diffusers[training]==0.2.3) (2.9.0)\n",
      "Requirement already satisfied: cachetools<6.0,>=2.0.0 in /opt/conda/lib/python3.8/site-packages (from google-auth<3,>=1.6.3->tensorboard->diffusers[training]==0.2.3) (5.2.0)\n",
      "Requirement already satisfied: pyasn1-modules>=0.2.1 in /opt/conda/lib/python3.8/site-packages (from google-auth<3,>=1.6.3->tensorboard->diffusers[training]==0.2.3) (0.2.8)\n",
      "Requirement already satisfied: rsa<5,>=3.1.4 in /opt/conda/lib/python3.8/site-packages (from google-auth<3,>=1.6.3->tensorboard->diffusers[training]==0.2.3) (4.8)\n",
      "Requirement already satisfied: requests-oauthlib>=0.7.0 in /opt/conda/lib/python3.8/site-packages (from google-auth-oauthlib<0.5,>=0.4.1->tensorboard->diffusers[training]==0.2.3) (1.3.1)\n",
      "Requirement already satisfied: pyasn1<0.5.0,>=0.4.6 in /opt/conda/lib/python3.8/site-packages (from pyasn1-modules>=0.2.1->google-auth<3,>=1.6.3->tensorboard->diffusers[training]==0.2.3) (0.4.8)\n",
      "Requirement already satisfied: oauthlib>=3.0.0 in /opt/conda/lib/python3.8/site-packages (from requests-oauthlib>=0.7.0->google-auth-oauthlib<0.5,>=0.4.1->tensorboard->diffusers[training]==0.2.3) (3.2.0)\n",
      "Installing collected packages: multidict, frozenlist, yarl, async-timeout, aiosignal, fsspec, dill, aiohttp, xxhash, pyarrow, protobuf, multiprocess, modelcards, diffusers, datasets, accelerate\n",
      "  Attempting uninstall: fsspec\n",
      "    Found existing installation: fsspec 2022.5.0\n",
      "    Uninstalling fsspec-2022.5.0:\n",
      "      Successfully uninstalled fsspec-2022.5.0\n",
      "  Attempting uninstall: pyarrow\n",
      "    Found existing installation: pyarrow 7.0.0\n",
      "    Uninstalling pyarrow-7.0.0:\n",
      "      Successfully uninstalled pyarrow-7.0.0\n",
      "  Attempting uninstall: protobuf\n",
      "    Found existing installation: protobuf 3.20.1\n",
      "    Uninstalling protobuf-3.20.1:\n",
      "      Successfully uninstalled protobuf-3.20.1\n",
      "\u001b[31mERROR: pip's dependency resolver does not currently take into account all the packages that are installed. This behaviour is the source of the following dependency conflicts.\n",
      "cudf 22.6.0a0+319.g97422602b8 requires protobuf<3.21.0a0,>=3.20.1, but you have protobuf 3.19.6 which is incompatible.\u001b[0m\n",
      "Successfully installed accelerate-0.23.0 aiohttp-3.8.5 aiosignal-1.3.1 async-timeout-4.0.3 datasets-2.14.5 diffusers-0.2.3 dill-0.3.7 frozenlist-1.4.0 fsspec-2023.6.0 modelcards-0.1.6 multidict-6.0.4 multiprocess-0.70.15 protobuf-3.19.6 pyarrow-13.0.0 xxhash-3.3.0 yarl-1.9.2\n",
      "\u001b[33mWARNING: Running pip as the 'root' user can result in broken permissions and conflicting behaviour with the system package manager. It is recommended to use a virtual environment instead: https://pip.pypa.io/warnings/venv\u001b[0m\n"
     ]
    }
   ],
   "source": [
    "!pip install diffusers[training]==0.2.3"
   ]
  },
  {
   "cell_type": "code",
   "execution_count": 7,
   "id": "28797558",
   "metadata": {},
   "outputs": [],
   "source": [
    "import torch\n",
    "import numpy as np\n",
    "import torch.nn as nn\n",
    "import torch.nn.functional as F\n",
    "from torchsummary import summary\n",
    "\n",
    "import matplotlib.pyplot as plt\n",
    "%matplotlib inline"
   ]
  },
  {
   "cell_type": "code",
   "execution_count": 41,
   "id": "3f13c52e",
   "metadata": {},
   "outputs": [],
   "source": [
    "import torchvision\n",
    "import torchvision.transforms as transforms\n",
    "\n",
    "# Define the data transformation\n",
    "transform = transforms.Compose([\n",
    "    transforms.Resize((32, 32)),\n",
    "    transforms.ToTensor(),\n",
    "    transforms.Lambda(lambda x: 2*(x-0.5))\n",
    "    #transforms.Lambda(lambda x: x*2 - 1)\n",
    "])\n",
    "\n",
    "# Download and load the MNIST dataset\n",
    "train_dataset = torchvision.datasets.MNIST(root='./data', train=True, transform=transform, download=True)\n",
    "test_dataset = torchvision.datasets.MNIST(root='./data', train=False, transform=transform, download=True)\n",
    "\n",
    "# Create data loaders\n",
    "batch_size = 1024\n",
    "train_loader = torch.utils.data.DataLoader(dataset=train_dataset, batch_size=batch_size, shuffle=True)\n",
    "test_loader = torch.utils.data.DataLoader(dataset=test_dataset, batch_size=batch_size, shuffle=False)"
   ]
  },
  {
   "cell_type": "code",
   "execution_count": 42,
   "id": "674d9157",
   "metadata": {},
   "outputs": [
    {
     "data": {
      "image/png": "[encoded data removed]",
      "text/plain": [
       "<Figure size 432x288 with 1 Axes>"
      ]
     },
     "metadata": {
      "needs_background": "light"
     },
     "output_type": "display_data"
    }
   ],
   "source": [
    "# Show example\n",
    "for i in train_loader:\n",
    "  x, y = i\n",
    "  plt.imshow(x[1][0], cmap='Greys_r', interpolation='nearest')\n",
    "  plt.axis('off')\n",
    "  plt.title(y[1].numpy())\n",
    "  break"
   ]
  },
  {
   "cell_type": "code",
   "execution_count": 43,
   "id": "386613b3",
   "metadata": {},
   "outputs": [],
   "source": [
    "import diffusers\n",
    "model = diffusers.UNet2DModel(\n",
    "    sample_size=28,\n",
    "    in_channels=1,\n",
    "    out_channels=1,\n",
    "    layers_per_block=2,\n",
    "    block_out_channels=(128,128,256,512),\n",
    "    down_block_types=(\n",
    "        \"DownBlock2D\",\n",
    "        \"DownBlock2D\",\n",
    "        \"AttnDownBlock2D\",\n",
    "        \"DownBlock2D\",\n",
    "    ),\n",
    "    up_block_types=(\n",
    "        \"UpBlock2D\",\n",
    "        \"AttnUpBlock2D\",\n",
    "        \"UpBlock2D\",\n",
    "        \"UpBlock2D\",\n",
    "    ),\n",
    ")"
   ]
  },
  {
   "cell_type": "code",
   "execution_count": 44,
   "id": "b96de195",
   "metadata": {},
   "outputs": [
    {
     "name": "stdout",
     "output_type": "stream",
     "text": [
      "Output shape: torch.Size([1024, 1, 32, 32])\n"
     ]
    }
   ],
   "source": [
    "print('Output shape:', model(x, timestep=0)[\"sample\"].shape)"
   ]
  },
  {
   "cell_type": "code",
   "execution_count": 45,
   "id": "f2437811",
   "metadata": {},
   "outputs": [],
   "source": [
    "device = torch.device(\"cuda\" if torch.cuda.is_available() else \"cpu\")"
   ]
  },
  {
   "cell_type": "code",
   "execution_count": 46,
   "id": "c9834006",
   "metadata": {},
   "outputs": [],
   "source": [
    "class BayesianFlowNetwork2D(nn.Module):\n",
    "    def __init__(self, net, D, sigma=0.001, tmin=1e-10, xmin=-1, xmax=1):\n",
    "        super(BayesianFlowNetwork2D, self).__init__()\n",
    "        self.sigma = torch.tensor(sigma)\n",
    "        self.D = D\n",
    "        self.t_min = tmin\n",
    "        self.xmin = xmin\n",
    "        self.xmax = xmax\n",
    "        self.net = net\n",
    "\n",
    "    def forward(self, mu, t, ema):\n",
    "        if ema is not None:\n",
    "          with ema.average_parameters():\n",
    "            output = self.net(mu,t)['sample']  # (B, D, D, K)\n",
    "        else:\n",
    "          output = self.net(mu,t)['sample']  # (B, D, D, K)\n",
    "\n",
    "        return output\n",
    "\n",
    "    def CTS_OUTPUT_PREDICTION(self, mu, t, gamma,ema=None):\n",
    "        eps_hat = self.forward(mu, t, ema=ema)\n",
    "        mask = t>=self.t_min\n",
    "        eps_hat = eps_hat*mask[:,None,None,None]\n",
    "        x_hat = (mu/gamma[:, None, None, None]) - ((1-gamma[:, None, None, None])/gamma[:, None, None, None]).sqrt()*eps_hat\n",
    "        x_hat = torch.clip(x_hat,self.xmin,self.xmax)\n",
    "        return x_hat\n",
    "\n",
    "    def process(self, x, t=None, training=True):\n",
    "\n",
    "        # Step 1: Sample t from U(0, 1)\n",
    "        if t is None:\n",
    "          t = torch.rand((x.size(0),), device=x.device, dtype=torch.float32)\n",
    "        else:\n",
    "          t = torch.tensor(t, device=x.device, dtype=torch.float32)[None]\n",
    "\n",
    "        # Step 2: Calculate gamma\n",
    "        gamma = 1- self.sigma**(2*t)  # (B,\n",
    "\n",
    "\n",
    "        # Step 3: Sample mu from N(gamma*X, gamma*(1-gamma)*I)\n",
    "        mean = gamma[:, None, None, None] * (x)\n",
    "        std = gamma*(1-gamma)\n",
    "        eps = torch.randn_like(mean)\n",
    "        mu = mean + std[:, None, None, None] * eps\n",
    "\n",
    "        # Step 5: CTS_OUTPUT_PREDICTION\n",
    "        x_hat = self.CTS_OUTPUT_PREDICTION(mu, t, gamma)  # (B, K, D, D)\n",
    "       \n",
    "\n",
    "        L_infinity = -torch.log(self.sigma)*(self.sigma**(-2*t[:, None, None, None]))*((x - x_hat) ** 2)\n",
    "\n",
    "        if training:\n",
    "          return L_infinity.mean()\n",
    "        else:\n",
    "           return L_infinity.mean(), mu, t\n",
    "\n",
    "    @torch.inference_mode()\n",
    "    def sample(self, batch_size=128, nb_steps=10, ema=None, device='cpu'):\n",
    "        self.eval()\n",
    "        mu = torch.zeros((batch_size, 1, self.D, self.D), device=device)\n",
    "        rho = 1\n",
    "\n",
    "        for i in tqdm(range(1, nb_steps+1)):\n",
    "            t = (i-1) / nb_steps\n",
    "            if t<1e-7:\n",
    "              t+=1e-7\n",
    "            t = t * torch.ones((mu.shape[0]), device=mu.device, dtype=mu.dtype)\n",
    "\n",
    "            x_hat = self.CTS_OUTPUT_PREDICTION(mu, t, 1- self.sigma**(2*t))  # (B, D, D, K)\n",
    "            alpha = (self.sigma**((-2 * i)/nb_steps))*(1-self.sigma**(2/nb_steps))\n",
    "            std = 1/alpha\n",
    "            eps = torch.randn_like(x_hat)\n",
    "            y = x_hat + std * eps  # (B, D, D, K)\n",
    "\n",
    "            mu = (rho*mu + alpha*y)/(rho+alpha)\n",
    "            rho = rho+alpha\n",
    "        t_final = torch.ones((mu.shape[0]), device=mu.device, dtype=mu.dtype)\n",
    "        x_hat = self.CTS_OUTPUT_PREDICTION(mu, t_final, 1- self.sigma**(2*t_final))\n",
    "        return x_hat"
   ]
  },
  {
   "cell_type": "code",
   "execution_count": 47,
   "id": "ac41e71a",
   "metadata": {},
   "outputs": [],
   "source": [
    "from torch.optim import AdamW\n",
    "from tqdm.auto import tqdm\n",
    "\n",
    "bfn = BayesianFlowNetwork2D(model, 32)\n",
    "#bfn = MyUNet()\n",
    "#ema = torch_ema.ExponentialMovingAverage(bfn.net.parameters(), decay=0.9999)\n",
    "\n",
    "bfn.cuda()\n",
    "#ema.to(device)\n",
    "\n",
    "optim = AdamW(bfn.parameters(), lr=0.0002, betas=(0.9, 0.98), weight_decay=0.01)\n"
   ]
  },
  {
   "cell_type": "code",
   "execution_count": 48,
   "id": "98648051",
   "metadata": {
    "scrolled": true
   },
   "outputs": [
    {
     "name": "stderr",
     "output_type": "stream",
     "text": [
      "Epoch 1/1000:   2%|██                                                                                                                      | 1/59 [00:00<00:47,  1.23it/s]"
     ]
    },
    {
     "name": "stdout",
     "output_type": "stream",
     "text": [
      "tensor(0.8961, device='cuda:0', grad_fn=<MeanBackward0>)\n"
     ]
    },
    {
     "name": "stderr",
     "output_type": "stream",
     "text": [
      "Epoch 1/1000: 100%|███████████████████████████████████████████████████████████████████████████████████████████████████████████████████████| 59/59 [00:42<00:00,  1.38it/s]\n",
      "Epoch 2/1000: 100%|███████████████████████████████████████████████████████████████████████████████████████████████████████████████████████| 59/59 [00:42<00:00,  1.39it/s]\n",
      "Epoch 3/1000: 100%|███████████████████████████████████████████████████████████████████████████████████████████████████████████████████████| 59/59 [00:42<00:00,  1.38it/s]\n",
      "Epoch 4/1000:  46%|██████████████████████████████████████████████████████▍                                                                | 27/59 [00:20<00:24,  1.33it/s]\n"
     ]
    },
    {
     "ename": "KeyboardInterrupt",
     "evalue": "",
     "output_type": "error",
     "traceback": [
      "\u001b[0;31m---------------------------------------------------------------------------\u001b[0m",
      "\u001b[0;31mKeyboardInterrupt\u001b[0m                         Traceback (most recent call last)",
      "Input \u001b[0;32mIn [48]\u001b[0m, in \u001b[0;36m<cell line: 9>\u001b[0;34m()\u001b[0m\n\u001b[1;32m     11\u001b[0m optim\u001b[38;5;241m.\u001b[39mzero_grad()\n\u001b[1;32m     13\u001b[0m loss \u001b[38;5;241m=\u001b[39m bfn\u001b[38;5;241m.\u001b[39mprocess(X\u001b[38;5;241m.\u001b[39mto(device))\n\u001b[0;32m---> 14\u001b[0m \u001b[43mloss\u001b[49m\u001b[38;5;241;43m.\u001b[39;49m\u001b[43mbackward\u001b[49m\u001b[43m(\u001b[49m\u001b[43m)\u001b[49m\n\u001b[1;32m     16\u001b[0m optim\u001b[38;5;241m.\u001b[39mstep()\n\u001b[1;32m     18\u001b[0m losses\u001b[38;5;241m.\u001b[39mappend(loss\u001b[38;5;241m.\u001b[39mitem())\n",
      "File \u001b[0;32m/opt/conda/lib/python3.8/site-packages/torch/_tensor.py:401\u001b[0m, in \u001b[0;36mTensor.backward\u001b[0;34m(self, gradient, retain_graph, create_graph, inputs)\u001b[0m\n\u001b[1;32m    392\u001b[0m \u001b[38;5;28;01mif\u001b[39;00m has_torch_function_unary(\u001b[38;5;28mself\u001b[39m):\n\u001b[1;32m    393\u001b[0m     \u001b[38;5;28;01mreturn\u001b[39;00m handle_torch_function(\n\u001b[1;32m    394\u001b[0m         Tensor\u001b[38;5;241m.\u001b[39mbackward,\n\u001b[1;32m    395\u001b[0m         (\u001b[38;5;28mself\u001b[39m,),\n\u001b[0;32m   (...)\u001b[0m\n\u001b[1;32m    399\u001b[0m         create_graph\u001b[38;5;241m=\u001b[39mcreate_graph,\n\u001b[1;32m    400\u001b[0m         inputs\u001b[38;5;241m=\u001b[39minputs)\n\u001b[0;32m--> 401\u001b[0m \u001b[43mtorch\u001b[49m\u001b[38;5;241;43m.\u001b[39;49m\u001b[43mautograd\u001b[49m\u001b[38;5;241;43m.\u001b[39;49m\u001b[43mbackward\u001b[49m\u001b[43m(\u001b[49m\u001b[38;5;28;43mself\u001b[39;49m\u001b[43m,\u001b[49m\u001b[43m \u001b[49m\u001b[43mgradient\u001b[49m\u001b[43m,\u001b[49m\u001b[43m \u001b[49m\u001b[43mretain_graph\u001b[49m\u001b[43m,\u001b[49m\u001b[43m \u001b[49m\u001b[43mcreate_graph\u001b[49m\u001b[43m,\u001b[49m\u001b[43m \u001b[49m\u001b[43minputs\u001b[49m\u001b[38;5;241;43m=\u001b[39;49m\u001b[43minputs\u001b[49m\u001b[43m)\u001b[49m\n",
      "File \u001b[0;32m/opt/conda/lib/python3.8/site-packages/torch/autograd/__init__.py:191\u001b[0m, in \u001b[0;36mbackward\u001b[0;34m(tensors, grad_tensors, retain_graph, create_graph, grad_variables, inputs)\u001b[0m\n\u001b[1;32m    186\u001b[0m     retain_graph \u001b[38;5;241m=\u001b[39m create_graph\n\u001b[1;32m    188\u001b[0m \u001b[38;5;66;03m# The reason we repeat same the comment below is that\u001b[39;00m\n\u001b[1;32m    189\u001b[0m \u001b[38;5;66;03m# some Python versions print out the first line of a multi-line function\u001b[39;00m\n\u001b[1;32m    190\u001b[0m \u001b[38;5;66;03m# calls in the traceback and some print out the last line\u001b[39;00m\n\u001b[0;32m--> 191\u001b[0m \u001b[43mVariable\u001b[49m\u001b[38;5;241;43m.\u001b[39;49m\u001b[43m_execution_engine\u001b[49m\u001b[38;5;241;43m.\u001b[39;49m\u001b[43mrun_backward\u001b[49m\u001b[43m(\u001b[49m\u001b[43m  \u001b[49m\u001b[38;5;66;43;03m# Calls into the C++ engine to run the backward pass\u001b[39;49;00m\n\u001b[1;32m    192\u001b[0m \u001b[43m    \u001b[49m\u001b[43mtensors\u001b[49m\u001b[43m,\u001b[49m\u001b[43m \u001b[49m\u001b[43mgrad_tensors_\u001b[49m\u001b[43m,\u001b[49m\u001b[43m \u001b[49m\u001b[43mretain_graph\u001b[49m\u001b[43m,\u001b[49m\u001b[43m \u001b[49m\u001b[43mcreate_graph\u001b[49m\u001b[43m,\u001b[49m\u001b[43m \u001b[49m\u001b[43minputs\u001b[49m\u001b[43m,\u001b[49m\n\u001b[1;32m    193\u001b[0m \u001b[43m    \u001b[49m\u001b[43mallow_unreachable\u001b[49m\u001b[38;5;241;43m=\u001b[39;49m\u001b[38;5;28;43;01mTrue\u001b[39;49;00m\u001b[43m,\u001b[49m\u001b[43m \u001b[49m\u001b[43maccumulate_grad\u001b[49m\u001b[38;5;241;43m=\u001b[39;49m\u001b[38;5;28;43;01mTrue\u001b[39;49;00m\u001b[43m)\u001b[49m\n",
      "\u001b[0;31mKeyboardInterrupt\u001b[0m: "
     ]
    }
   ],
   "source": [
    "losses = []\n",
    "\n",
    "epochs = 1000\n",
    "best_loss = 10000\n",
    "k = 0\n",
    "early_stopping = False\n",
    "patience = 1e6\n",
    "J = 0\n",
    "for i in range(epochs):\n",
    "  for X, _ in tqdm(train_loader, desc=f\"Epoch {i+1}/{epochs}\"):\n",
    "      optim.zero_grad()\n",
    "\n",
    "      loss = bfn.process(X.to(device))\n",
    "      loss.backward()\n",
    "\n",
    "      optim.step()\n",
    "\n",
    "      losses.append(loss.item())\n",
    "\n",
    "      if J%1000 == 0:\n",
    "        print(loss)\n",
    "      J+=1\n",
    "\n",
    "      if loss.item() < best_loss:\n",
    "        best_loss = loss.item()\n",
    "        k = 0\n",
    "      else:\n",
    "        k += 1\n",
    "        if k == patience:\n",
    "          k = 0\n",
    "          early_stopping = True\n",
    "          break\n",
    "  if early_stopping:\n",
    "    break\n",
    "\n",
    "plt.plot(losses)"
   ]
  },
  {
   "cell_type": "code",
   "execution_count": 17,
   "id": "27d7dc7d",
   "metadata": {},
   "outputs": [
    {
     "data": {
      "text/plain": [
       "(0.0, 0.1)"
      ]
     },
     "execution_count": 17,
     "metadata": {},
     "output_type": "execute_result"
    },
    {
     "data": {
      "image/png": "[encoded data removed]",
      "text/plain": [
       "<Figure size 432x288 with 1 Axes>"
      ]
     },
     "metadata": {
      "needs_background": "light"
     },
     "output_type": "display_data"
    }
   ],
   "source": [
    "def moving_average(data, window_size):\n",
    "    moving_avg = []\n",
    "    for i in range(len(data) - window_size + 1):\n",
    "        window = data[i : i + window_size]\n",
    "        avg = sum(window) / window_size\n",
    "        moving_avg.append(avg)\n",
    "    return moving_avg\n",
    "\n",
    "plt.plot(moving_average(losses, 20))\n",
    "plt.ylim(0, 0.1)"
   ]
  },
  {
   "cell_type": "code",
   "execution_count": 39,
   "id": "d55840c2",
   "metadata": {},
   "outputs": [
    {
     "name": "stderr",
     "output_type": "stream",
     "text": [
      "100%|█████████████████████████████████████████████████████████████████████████████████████████████████████████████████████████████████| 1000/1000 [00:15<00:00, 66.05it/s]\n"
     ]
    }
   ],
   "source": [
    "x_hat = bfn.sample(device='cuda', nb_steps=1000, batch_size=16)"
   ]
  },
  {
   "cell_type": "code",
   "execution_count": 40,
   "id": "f142d7a4",
   "metadata": {},
   "outputs": [
    {
     "data": {
      "image/png": "[encoded data removed]",
      "text/plain": [
       "<Figure size 576x576 with 16 Axes>"
      ]
     },
     "metadata": {
      "needs_background": "light"
     },
     "output_type": "display_data"
    }
   ],
   "source": [
    "fig, ax = plt.subplots(4, 4, figsize=(8, 8),  layout='constrained')\n",
    "\n",
    "for i in range(16):\n",
    "    ax[i // 4, i % 4].imshow(x_hat.cpu().numpy()[i][0], cmap='Greys_r')\n",
    "    ax[i // 4, i % 4].axis('off')"
   ]
  },
  {
   "cell_type": "code",
   "execution_count": null,
   "id": "2f7c4b44",
   "metadata": {},
   "outputs": [],
   "source": []
  },
  {
   "cell_type": "code",
   "execution_count": 46,
   "id": "7c0b85ca",
   "metadata": {},
   "outputs": [
    {
     "data": {
      "text/plain": [
       "tensor([218, 782, 803])"
      ]
     },
     "execution_count": 46,
     "metadata": {},
     "output_type": "execute_result"
    }
   ],
   "source": []
  },
  {
   "cell_type": "code",
   "execution_count": null,
   "id": "afaa7200",
   "metadata": {},
   "outputs": [],
   "source": []
  }
 ],
 "metadata": {
  "kernelspec": {
   "display_name": "Python 3 (ipykernel)",
   "language": "python",
   "name": "python3"
  },
  "language_info": {
   "codemirror_mode": {
    "name": "ipython",
    "version": 3
   },
   "file_extension": ".py",
   "mimetype": "text/x-python",
   "name": "python",
   "nbconvert_exporter": "python",
   "pygments_lexer": "ipython3",
   "version": "3.8.13"
  }
 },
 "nbformat": 4,
 "nbformat_minor": 5
}
